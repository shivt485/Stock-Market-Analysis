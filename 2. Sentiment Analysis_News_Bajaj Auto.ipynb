{
 "cells": [
  {
   "cell_type": "code",
   "execution_count": 1,
   "id": "e59f5a35",
   "metadata": {},
   "outputs": [],
   "source": [
    "news = \"Join us on the Bajaj Auto Stock Liveblog, your hub for real-time updates and comprehensive analysis on a prominent stock. Stay in the know with the latest information about Bajaj Auto, including: Last traded price 8879.25, Market capitalization: 251361.68, Volume: 1208510, Price-to-earnings ratio 33.94, Earnings per share 261.37. Our liveblog provides a well-rounded view of Bajaj Auto by incorporating both fundamental and technical indicators. Be the first to receive breaking news that can impact Bajaj Auto's performance in the market. Our expert analysis and recommendations empower you to make informed investment choices. Stay informed and stay ahead with the Bajaj Auto Stock Liveblog. The data points are updated as on 07-03-2024 15:17 IST\""
   ]
  },
  {
   "cell_type": "code",
   "execution_count": 2,
   "id": "d83ef4ce",
   "metadata": {},
   "outputs": [],
   "source": [
    "import re"
   ]
  },
  {
   "cell_type": "code",
   "execution_count": 4,
   "id": "e1a2ed49",
   "metadata": {},
   "outputs": [],
   "source": [
    "text = re.sub(r'\\b\\d+\\b', '', news)"
   ]
  },
  {
   "cell_type": "code",
   "execution_count": 5,
   "id": "5b96219a",
   "metadata": {},
   "outputs": [
    {
     "name": "stdout",
     "output_type": "stream",
     "text": [
      "Join us on the Bajaj Auto Stock Liveblog, your hub for real-time updates and comprehensive analysis on a prominent stock. Stay in the know with the latest information about Bajaj Auto, including: Last traded price ., Market capitalization: ., Volume: , Price-to-earnings ratio ., Earnings per share .. Our liveblog provides a well-rounded view of Bajaj Auto by incorporating both fundamental and technical indicators. Be the first to receive breaking news that can impact Bajaj Auto's performance in the market. Our expert analysis and recommendations empower you to make informed investment choices. Stay informed and stay ahead with the Bajaj Auto Stock Liveblog. The data points are updated as on -- : IST\n"
     ]
    }
   ],
   "source": [
    "text = re.sub(r'Last traded price \\d+\\.\\d+, Market capitalization: \\d+\\.\\d+, Volume: \\d+, Price-to-earnings ratio \\d+\\.\\d+, Earnings per share \\d+\\.\\d+\\.', '', text)\n",
    "\n",
    "print(text)"
   ]
  },
  {
   "cell_type": "code",
   "execution_count": 7,
   "id": "fba22e9d",
   "metadata": {},
   "outputs": [
    {
     "name": "stdout",
     "output_type": "stream",
     "text": [
      "['Join', 'us', 'on', 'the', 'Bajaj', 'Auto', 'Stock', 'Liveblog', ',', 'your', 'hub', 'for', 'real-time', 'updates', 'and', 'comprehensive', 'analysis', 'on', 'a', 'prominent', 'stock', '.', 'Stay', 'in', 'the', 'know', 'with', 'the', 'latest', 'information', 'about', 'Bajaj', 'Auto', ',', 'including', ':', 'Last', 'traded', 'price', '.', ',', 'Market', 'capitalization', ':', '.', ',', 'Volume', ':', ',', 'Price-to-earnings', 'ratio', '.', ',', 'Earnings', 'per', 'share', '..', 'Our', 'liveblog', 'provides', 'a', 'well-rounded', 'view', 'of', 'Bajaj', 'Auto', 'by', 'incorporating', 'both', 'fundamental', 'and', 'technical', 'indicators', '.', 'Be', 'the', 'first', 'to', 'receive', 'breaking', 'news', 'that', 'can', 'impact', 'Bajaj', 'Auto', \"'s\", 'performance', 'in', 'the', 'market', '.', 'Our', 'expert', 'analysis', 'and', 'recommendations', 'empower', 'you', 'to', 'make', 'informed', 'investment', 'choices', '.', 'Stay', 'informed', 'and', 'stay', 'ahead', 'with', 'the', 'Bajaj', 'Auto', 'Stock', 'Liveblog', '.', 'The', 'data', 'points', 'are', 'updated', 'as', 'on', '--', ':', 'IST']\n"
     ]
    }
   ],
   "source": [
    "import nltk\n",
    "tokens = nltk.word_tokenize(text)\n",
    "\n",
    "print(tokens)"
   ]
  },
  {
   "cell_type": "code",
   "execution_count": 8,
   "id": "7dcfd762",
   "metadata": {},
   "outputs": [],
   "source": [
    "from nltk.sentiment.vader import SentimentIntensityAnalyzer\n",
    "from nltk.corpus import stopwords"
   ]
  },
  {
   "cell_type": "code",
   "execution_count": 9,
   "id": "6c24133e",
   "metadata": {},
   "outputs": [],
   "source": [
    "# removing stopwords \n",
    "stop_words = set(stopwords.words('english'))\n",
    "filtered_tokens = [word for word in tokens if word.lower() not in stop_words]"
   ]
  },
  {
   "cell_type": "code",
   "execution_count": 10,
   "id": "72af8b1f",
   "metadata": {},
   "outputs": [],
   "source": [
    "# Sentiment analysis\n",
    "sid = SentimentIntensityAnalyzer()\n",
    "sentiment_score = sid.polarity_scores(' '.join(filtered_tokens))['compound']"
   ]
  },
  {
   "cell_type": "code",
   "execution_count": 11,
   "id": "2712b39f",
   "metadata": {},
   "outputs": [],
   "source": [
    "if sentiment_score > 0:\n",
    "    sentiment = \"Positive\"\n",
    "elif sentiment_score < 0:\n",
    "    sentiment = \"Negative\"\n",
    "else:\n",
    "    sentiment = \"Neutral\""
   ]
  },
  {
   "cell_type": "code",
   "execution_count": 12,
   "id": "1f00b35c",
   "metadata": {},
   "outputs": [
    {
     "name": "stdout",
     "output_type": "stream",
     "text": [
      "Sentiment: Positive\n",
      "Sentiment Score: 0.7717\n"
     ]
    }
   ],
   "source": [
    "print(\"Sentiment:\", sentiment)\n",
    "print(\"Sentiment Score:\", sentiment_score)"
   ]
  },
  {
   "cell_type": "code",
   "execution_count": 13,
   "id": "e5eb7dd8",
   "metadata": {},
   "outputs": [],
   "source": [
    "# Thank You"
   ]
  }
 ],
 "metadata": {
  "kernelspec": {
   "display_name": "Python 3 (ipykernel)",
   "language": "python",
   "name": "python3"
  },
  "language_info": {
   "codemirror_mode": {
    "name": "ipython",
    "version": 3
   },
   "file_extension": ".py",
   "mimetype": "text/x-python",
   "name": "python",
   "nbconvert_exporter": "python",
   "pygments_lexer": "ipython3",
   "version": "3.11.3"
  }
 },
 "nbformat": 4,
 "nbformat_minor": 5
}
